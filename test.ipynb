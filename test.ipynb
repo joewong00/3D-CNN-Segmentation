{
 "cells": [
  {
   "cell_type": "code",
   "execution_count": 1,
   "metadata": {},
   "outputs": [],
   "source": [
    "import torch\n",
    "import matplotlib.pyplot as plt\n",
    "from dataloader import MRIDataset\n",
    "from residual3dunet.model import ResidualUNet3D\n",
    "from torch.utils.data import Dataset, DataLoader\n",
    "from utils import dice_coefficient, iou, plotloss, plotaccuracy, compute_average\n",
    "import torchvision.transforms as T\n",
    "import nibabel as nib\n",
    "import numpy as np"
   ]
  },
  {
   "cell_type": "code",
   "execution_count": 2,
   "metadata": {},
   "outputs": [
    {
     "data": {
      "text/plain": [
       "<Figure size 432x288 with 0 Axes>"
      ]
     },
     "execution_count": 2,
     "metadata": {},
     "output_type": "execute_result"
    },
    {
     "data": {
      "image/png": "[encoded data removed]",
      "text/plain": [
       "<Figure size 432x288 with 1 Axes>"
      ]
     },
     "metadata": {
      "needs_background": "light"
     },
     "output_type": "display_data"
    },
    {
     "data": {
      "text/plain": [
       "<Figure size 432x288 with 0 Axes>"
      ]
     },
     "metadata": {},
     "output_type": "display_data"
    }
   ],
   "source": [
    "plotloss('output/train15.out')\n",
    "plt.figure()\n",
    "# plotaccuracy('output/train6.out')\n"
   ]
  },
  {
   "cell_type": "code",
   "execution_count": 3,
   "metadata": {},
   "outputs": [
    {
     "data": {
      "text/plain": [
       "<All keys matched successfully>"
      ]
     },
     "execution_count": 3,
     "metadata": {},
     "output_type": "execute_result"
    }
   ],
   "source": [
    "device = torch.device('cpu')\n",
    "model = ResidualUNet3D(in_channels=1, out_channels=1, testing=True).to(device)\n",
    "\n",
    "# model = torch.nn.DataParallel(model)\n",
    "model.load_state_dict(torch.load(\"model/model11.pt\", map_location=device))"
   ]
  },
  {
   "cell_type": "code",
   "execution_count": 4,
   "metadata": {},
   "outputs": [
    {
     "name": "stdout",
     "output_type": "stream",
     "text": [
      "torch.Size([1, 1, 14, 240, 240])\n"
     ]
    }
   ],
   "source": [
    "testdataset = MRIDataset(train=False, transform=T.ToTensor())\n",
    "test_loader = DataLoader(dataset = testdataset, batch_size=1, shuffle=False)\n",
    "\n",
    "image_path = './dataset/train/T1/MRI1_T1.nii.gz'\n",
    "image_obj = nib.load(image_path)\n",
    "\n",
    "# Extract data as numpy array\n",
    "image_data = image_obj.get_fdata()\n",
    "\n",
    "image_data = np.pad(image_data, ((0,0),(0,0),(0,1)))\n",
    "image_data = np.moveaxis(image_data, 2, 0)\n",
    "image_data = np.moveaxis(image_data, 2, 1)\n",
    "image_data = torch.from_numpy(image_data)\n",
    "image_data = torch.unsqueeze(image_data, 0)\n",
    "image_data = torch.unsqueeze(image_data, 0)\n",
    "print(image_data.shape)"
   ]
  },
  {
   "cell_type": "code",
   "execution_count": 5,
   "metadata": {},
   "outputs": [
    {
     "name": "stdout",
     "output_type": "stream",
     "text": [
      "torch.Size([1, 32, 14, 240, 240])\n",
      "torch.Size([1, 64, 14, 120, 120])\n",
      "torch.Size([1, 128, 14, 60, 60])\n",
      "torch.Size([1, 256, 14, 30, 30])\n",
      "torch.Size([1, 512, 14, 15, 15])\n",
      "torch.Size([1, 256, 14, 30, 30])\n",
      "torch.Size([1, 128, 14, 60, 60])\n",
      "torch.Size([1, 64, 14, 120, 120])\n",
      "torch.Size([1, 32, 14, 240, 240])\n",
      "torch.Size([1, 1, 14, 240, 240])\n"
     ]
    }
   ],
   "source": [
    "model.eval()\n",
    "\n",
    "dataiter = iter(test_loader)\n",
    "data = dataiter.next()\n",
    "data = dataiter.next()\n",
    "data = dataiter.next()\n",
    "features, labels = data\n",
    "\n",
    "features, labels = features.float().to(device), labels.float().to(device)\n",
    "\n",
    "# image_data = image_data.float().to(device)\n",
    "\n",
    "output = model(features)"
   ]
  },
  {
   "cell_type": "code",
   "execution_count": 6,
   "metadata": {},
   "outputs": [
    {
     "name": "stdout",
     "output_type": "stream",
     "text": [
      "torch.Size([1, 1, 14, 240, 240])\n",
      "tensor(0.9316)\n",
      "tensor(0.8720)\n"
     ]
    }
   ],
   "source": [
    "# preds = torch.sigmoid(output)\n",
    "preds = (output > 0.5).float()\n",
    "\n",
    "print(preds.shape)\n",
    "batch, channel, depth, width, height = preds.shape\n",
    "\n",
    "print(dice_coefficient(preds, labels))\n",
    "print(iou(preds, labels))"
   ]
  },
  {
   "cell_type": "code",
   "execution_count": null,
   "metadata": {},
   "outputs": [],
   "source": [
    "# Visualize Single Image Data\n",
    "f, axarr = plt.subplots(14,3,figsize=(50,50))\n",
    "\n",
    "for i in range(depth):\n",
    "    axarr[i,0].imshow(image_data[0,0,i,:,:],cmap='gray')\n",
    "    axarr[i,1].imshow(preds[0,0,i,:,:],cmap='gray')\n",
    "    axarr[i,2].imshow(labels[0,0,i,:,:],cmap='gray')\n",
    "    plt.axis('off')"
   ]
  },
  {
   "cell_type": "code",
   "execution_count": 7,
   "metadata": {},
   "outputs": [],
   "source": [
    "from segmentation_statistics import SegmentationStatistics\n",
    "\n",
    "preds = preds.numpy()\n",
    "labels = labels.numpy()\n",
    "preds = preds.astype(bool)\n",
    "labels = labels.astype(bool)\n",
    "\n",
    "# preds = preds.bool()\n",
    "# labels = labels.bool()\n",
    "\n",
    "stat = SegmentationStatistics(preds[0,0,:,:,:], labels[0,0,:,:,:], (3,2,1))"
   ]
  },
  {
   "cell_type": "code",
   "execution_count": 24,
   "metadata": {},
   "outputs": [
    {
     "data": {
      "text/html": [
       "<div>\n",
       "<style scoped>\n",
       "    .dataframe tbody tr th:only-of-type {\n",
       "        vertical-align: middle;\n",
       "    }\n",
       "\n",
       "    .dataframe tbody tr th {\n",
       "        vertical-align: top;\n",
       "    }\n",
       "\n",
       "    .dataframe thead th {\n",
       "        text-align: right;\n",
       "    }\n",
       "</style>\n",
       "<table border=\"1\" class=\"dataframe\">\n",
       "  <thead>\n",
       "    <tr style=\"text-align: right;\">\n",
       "      <th></th>\n",
       "      <th>Metric</th>\n",
       "      <th>Score</th>\n",
       "    </tr>\n",
       "  </thead>\n",
       "  <tbody>\n",
       "    <tr>\n",
       "      <th>0</th>\n",
       "      <td>Dice</td>\n",
       "      <td>0.931607</td>\n",
       "    </tr>\n",
       "    <tr>\n",
       "      <th>1</th>\n",
       "      <td>Jaccard</td>\n",
       "      <td>0.871970</td>\n",
       "    </tr>\n",
       "    <tr>\n",
       "      <th>2</th>\n",
       "      <td>Sensitivity</td>\n",
       "      <td>0.903268</td>\n",
       "    </tr>\n",
       "    <tr>\n",
       "      <th>3</th>\n",
       "      <td>Specificity</td>\n",
       "      <td>0.998558</td>\n",
       "    </tr>\n",
       "    <tr>\n",
       "      <th>4</th>\n",
       "      <td>Precision</td>\n",
       "      <td>0.961782</td>\n",
       "    </tr>\n",
       "    <tr>\n",
       "      <th>5</th>\n",
       "      <td>Accuracy</td>\n",
       "      <td>0.994877</td>\n",
       "    </tr>\n",
       "    <tr>\n",
       "      <th>6</th>\n",
       "      <td>Mean_Surface_Distance</td>\n",
       "      <td>0.526067</td>\n",
       "    </tr>\n",
       "    <tr>\n",
       "      <th>7</th>\n",
       "      <td>Hausdorff_Distance</td>\n",
       "      <td>3.000000</td>\n",
       "    </tr>\n",
       "    <tr>\n",
       "      <th>8</th>\n",
       "      <td>Volume_Difference</td>\n",
       "      <td>-11.370000</td>\n",
       "    </tr>\n",
       "  </tbody>\n",
       "</table>\n",
       "</div>"
      ],
      "text/plain": [
       "                  Metric      Score\n",
       "0                   Dice   0.931607\n",
       "1                Jaccard   0.871970\n",
       "2            Sensitivity   0.903268\n",
       "3            Specificity   0.998558\n",
       "4              Precision   0.961782\n",
       "5               Accuracy   0.994877\n",
       "6  Mean_Surface_Distance   0.526067\n",
       "7     Hausdorff_Distance   3.000000\n",
       "8      Volume_Difference -11.370000"
      ]
     },
     "execution_count": 24,
     "metadata": {},
     "output_type": "execute_result"
    }
   ],
   "source": [
    "import pandas as pd\n",
    "yeet = []\n",
    "yeet.append(stat.to_dict())\n",
    "yeet.append(stat.to_dict())\n",
    "yeet.append(stat.to_dict())\n",
    "yeet.append(stat.to_dict())\n",
    "# type(stat)\n",
    "\n",
    "df = compute_average(yeet,dataframe=True)\n",
    "df\n"
   ]
  },
  {
   "cell_type": "code",
   "execution_count": null,
   "metadata": {},
   "outputs": [],
   "source": []
  }
 ],
 "metadata": {
  "interpreter": {
   "hash": "7aa30a5429a76fc9327cf5c7d6cbac98b63911354387ecfa6ca386d1236b51ba"
  },
  "kernelspec": {
   "display_name": "Python 3",
   "language": "python",
   "name": "python3"
  },
  "language_info": {
   "codemirror_mode": {
    "name": "ipython",
    "version": 3
   },
   "file_extension": ".py",
   "mimetype": "text/x-python",
   "name": "python",
   "nbconvert_exporter": "python",
   "pygments_lexer": "ipython3",
   "version": "3.7.12"
  }
 },
 "nbformat": 4,
 "nbformat_minor": 2
}
