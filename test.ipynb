{
 "cells": [
  {
   "cell_type": "code",
   "execution_count": 1,
   "metadata": {},
   "outputs": [],
   "source": [
    "import torch\n",
    "import matplotlib.pyplot as plt\n",
    "from dataloader import MRIDataset\n",
    "from residual3dunet.model import ResidualUNet3D\n",
    "from torch.utils.data import Dataset, DataLoader\n",
    "from utils import dice_coefficient, iou, plotloss, plotaccuracy, compute_average, add_mask_colour\n",
    "import torchvision.transforms as T\n",
    "import nibabel as nib\n",
    "import numpy as np"
   ]
  },
  {
   "cell_type": "code",
   "execution_count": 59,
   "metadata": {},
   "outputs": [
    {
     "data": {
      "text/plain": [
       "<Figure size 432x288 with 0 Axes>"
      ]
     },
     "execution_count": 59,
     "metadata": {},
     "output_type": "execute_result"
    },
    {
     "data": {
      "image/png": "[encoded data removed]",
      "text/plain": [
       "<Figure size 432x288 with 1 Axes>"
      ]
     },
     "metadata": {
      "needs_background": "light"
     },
     "output_type": "display_data"
    },
    {
     "data": {
      "text/plain": [
       "<Figure size 432x288 with 0 Axes>"
      ]
     },
     "metadata": {},
     "output_type": "display_data"
    }
   ],
   "source": [
    "plotloss('output/train17.out')\n",
    "plt.figure()\n",
    "# plotaccuracy('output/train6.out')\n"
   ]
  },
  {
   "cell_type": "code",
   "execution_count": 3,
   "metadata": {},
   "outputs": [
    {
     "data": {
      "text/plain": [
       "<All keys matched successfully>"
      ]
     },
     "execution_count": 3,
     "metadata": {},
     "output_type": "execute_result"
    }
   ],
   "source": [
    "device = torch.device('cpu')\n",
    "model = ResidualUNet3D(in_channels=1, out_channels=1, testing=True).to(device)\n",
    "\n",
    "# model = torch.nn.DataParallel(model)\n",
    "model.load_state_dict(torch.load(\"model/model4.pt\", map_location=device))"
   ]
  },
  {
   "cell_type": "code",
   "execution_count": 4,
   "metadata": {},
   "outputs": [
    {
     "name": "stdout",
     "output_type": "stream",
     "text": [
      "50\n"
     ]
    }
   ],
   "source": [
    "testdataset = MRIDataset(train=False, transform=T.ToTensor())\n",
    "test_loader = DataLoader(dataset = testdataset, batch_size=1, shuffle=False)\n",
    "\n",
    "print(len(test_loader))\n",
    "\n",
    "image_path = './dataset/train/T1/MRI1_T1.nii.gz'\n",
    "image_obj = nib.load(image_path)\n",
    "\n",
    "# Extract data as numpy array\n",
    "image_data = image_obj.get_fdata()\n",
    "\n",
    "image_data = np.pad(image_data, ((0,0),(0,0),(0,1)))\n",
    "image_data = np.moveaxis(image_data, 2, 0)\n",
    "image_data = np.moveaxis(image_data, 2, 1)\n",
    "image_data = torch.from_numpy(image_data)\n",
    "image_data = torch.unsqueeze(image_data, 0)\n",
    "image_data = torch.unsqueeze(image_data, 0)\n",
    "# print(image_data.shape)"
   ]
  },
  {
   "cell_type": "code",
   "execution_count": 72,
   "metadata": {},
   "outputs": [],
   "source": [
    "model.eval()\n",
    "\n",
    "dataiter = iter(test_loader)\n",
    "data = dataiter.next()\n",
    "# data = dataiter.next()\n",
    "# data = dataiter.next()\n",
    "features, labels = data\n",
    "\n",
    "features, labels = features.float().to(device), labels.float().to(device)\n",
    "\n",
    "# image_data = image_data.float().to(device)\n",
    "\n",
    "# output = model(features)"
   ]
  },
  {
   "cell_type": "code",
   "execution_count": 15,
   "metadata": {},
   "outputs": [],
   "source": [
    "def iou(pred, target):\n",
    "\n",
    "    pred = pred.int()\n",
    "    target = target.int()\n",
    "\n",
    "    intersection = (pred & target).float().sum((1,2))\n",
    "    union = (pred | target).float().sum((1,2))\n",
    "\n",
    "    iou = (intersection + 1e-6) / (union + 1e-6)\n",
    "\n",
    "    return iou.mean()\n",
    "\n",
    "\n",
    "def dice_coefficient(pred, target):\n",
    "\n",
    "    dice_score = 0\n",
    "    dice_score += (2 * (pred * target).sum()) / (\n",
    "                (pred + target).sum() + 1e-8\n",
    "            )\n",
    "\n",
    "    return dice_score\n",
    "\n",
    "def jaccard(prediction, truth):\n",
    "    return np.sum(prediction[truth==1]) / (np.sum(prediction[truth==1]) + np.sum(prediction!=truth))\n",
    "\n",
    "def dice(prediction, truth):\n",
    "        return np.sum(prediction[truth==1]) * 2.0 / (np.sum(prediction) + np.sum(truth))"
   ]
  },
  {
   "cell_type": "code",
   "execution_count": 64,
   "metadata": {},
   "outputs": [
    {
     "ename": "AttributeError",
     "evalue": "'numpy.ndarray' object has no attribute 'int'",
     "output_type": "error",
     "traceback": [
      "\u001b[0;31m---------------------------------------------------------------------------\u001b[0m",
      "\u001b[0;31mAttributeError\u001b[0m                            Traceback (most recent call last)",
      "\u001b[0;32m/var/folders/21/q6hd2x45603c6rqjbyj5tsx00000gn/T/ipykernel_6751/517393234.py\u001b[0m in \u001b[0;36m<module>\u001b[0;34m\u001b[0m\n\u001b[1;32m      6\u001b[0m \u001b[0mbatch\u001b[0m\u001b[0;34m,\u001b[0m \u001b[0mchannel\u001b[0m\u001b[0;34m,\u001b[0m \u001b[0mdepth\u001b[0m\u001b[0;34m,\u001b[0m \u001b[0mwidth\u001b[0m\u001b[0;34m,\u001b[0m \u001b[0mheight\u001b[0m \u001b[0;34m=\u001b[0m \u001b[0mpreds\u001b[0m\u001b[0;34m.\u001b[0m\u001b[0mshape\u001b[0m\u001b[0;34m\u001b[0m\u001b[0;34m\u001b[0m\u001b[0m\n\u001b[1;32m      7\u001b[0m \u001b[0;34m\u001b[0m\u001b[0m\n\u001b[0;32m----> 8\u001b[0;31m \u001b[0mprint\u001b[0m\u001b[0;34m(\u001b[0m\u001b[0miou\u001b[0m\u001b[0;34m(\u001b[0m\u001b[0mpreds\u001b[0m\u001b[0;34m,\u001b[0m \u001b[0mlabels\u001b[0m\u001b[0;34m)\u001b[0m\u001b[0;34m)\u001b[0m\u001b[0;34m\u001b[0m\u001b[0;34m\u001b[0m\u001b[0m\n\u001b[0m\u001b[1;32m      9\u001b[0m \u001b[0mprint\u001b[0m\u001b[0;34m(\u001b[0m\u001b[0mdice_coefficient\u001b[0m\u001b[0;34m(\u001b[0m\u001b[0mpreds\u001b[0m\u001b[0;34m,\u001b[0m \u001b[0mlabels\u001b[0m\u001b[0;34m)\u001b[0m\u001b[0;34m)\u001b[0m\u001b[0;34m\u001b[0m\u001b[0;34m\u001b[0m\u001b[0m\n",
      "\u001b[0;32m/var/folders/21/q6hd2x45603c6rqjbyj5tsx00000gn/T/ipykernel_6751/3071674264.py\u001b[0m in \u001b[0;36miou\u001b[0;34m(pred, target)\u001b[0m\n\u001b[1;32m      2\u001b[0m \u001b[0;34m\u001b[0m\u001b[0m\n\u001b[1;32m      3\u001b[0m     \u001b[0mpred\u001b[0m \u001b[0;34m=\u001b[0m \u001b[0mpred\u001b[0m\u001b[0;34m.\u001b[0m\u001b[0mint\u001b[0m\u001b[0;34m(\u001b[0m\u001b[0;34m)\u001b[0m\u001b[0;34m\u001b[0m\u001b[0;34m\u001b[0m\u001b[0m\n\u001b[0;32m----> 4\u001b[0;31m     \u001b[0mtarget\u001b[0m \u001b[0;34m=\u001b[0m \u001b[0mtarget\u001b[0m\u001b[0;34m.\u001b[0m\u001b[0mint\u001b[0m\u001b[0;34m(\u001b[0m\u001b[0;34m)\u001b[0m\u001b[0;34m\u001b[0m\u001b[0;34m\u001b[0m\u001b[0m\n\u001b[0m\u001b[1;32m      5\u001b[0m \u001b[0;34m\u001b[0m\u001b[0m\n\u001b[1;32m      6\u001b[0m     \u001b[0mintersection\u001b[0m \u001b[0;34m=\u001b[0m \u001b[0;34m(\u001b[0m\u001b[0mpred\u001b[0m \u001b[0;34m&\u001b[0m \u001b[0mtarget\u001b[0m\u001b[0;34m)\u001b[0m\u001b[0;34m.\u001b[0m\u001b[0mfloat\u001b[0m\u001b[0;34m(\u001b[0m\u001b[0;34m)\u001b[0m\u001b[0;34m.\u001b[0m\u001b[0msum\u001b[0m\u001b[0;34m(\u001b[0m\u001b[0;34m(\u001b[0m\u001b[0;36m1\u001b[0m\u001b[0;34m,\u001b[0m\u001b[0;36m2\u001b[0m\u001b[0;34m)\u001b[0m\u001b[0;34m)\u001b[0m\u001b[0;34m\u001b[0m\u001b[0;34m\u001b[0m\u001b[0m\n",
      "\u001b[0;31mAttributeError\u001b[0m: 'numpy.ndarray' object has no attribute 'int'"
     ]
    }
   ],
   "source": [
    "# preds = torch.sigmoid(output)\n",
    "preds = (output > 0.5).float()\n",
    "\n",
    "# print(preds.shape)\n",
    "# print(labels.shape)\n",
    "batch, channel, depth, width, height = preds.shape\n",
    "\n",
    "print(iou(preds, labels))\n",
    "print(dice_coefficient(preds, labels))\n"
   ]
  },
  {
   "cell_type": "code",
   "execution_count": 8,
   "metadata": {},
   "outputs": [
    {
     "name": "stdout",
     "output_type": "stream",
     "text": [
      "0.8632333928461491\n",
      "0.9265971682994928\n"
     ]
    }
   ],
   "source": [
    "preds = preds.numpy()\n",
    "labels = labels.numpy()\n",
    "preds = preds.astype(bool)\n",
    "labels = labels.astype(bool)\n",
    "\n",
    "print(jaccard(preds[0,0,:,:,:], labels[0,0,:,:,:]))\n",
    "print(dice(preds[0,0,:,:,:], labels[0,0,:,:,:]))"
   ]
  },
  {
   "cell_type": "code",
   "execution_count": null,
   "metadata": {},
   "outputs": [],
   "source": [
    "# Visualize Single Image Data\n",
    "f, axarr = plt.subplots(14,3,figsize=(50,50))\n",
    "\n",
    "for i in range(depth):\n",
    "    axarr[i,0].imshow(image_data[0,0,i,:,:],cmap='gray')\n",
    "    axarr[i,1].imshow(preds[0,0,i,:,:],cmap='gray')\n",
    "    axarr[i,2].imshow(labels[0,0,i,:,:],cmap='gray')\n",
    "    plt.axis('off')"
   ]
  },
  {
   "cell_type": "code",
   "execution_count": null,
   "metadata": {},
   "outputs": [],
   "source": [
    "from segmentation_statistics import SegmentationStatistics\n",
    "\n",
    "preds = preds.numpy()\n",
    "labels = labels.numpy()\n",
    "preds = preds.astype(bool)\n",
    "labels = labels.astype(bool)\n",
    "\n",
    "# preds = preds.bool()\n",
    "# labels = labels.bool()\n",
    "\n",
    "stat = SegmentationStatistics(preds[0,0,:,:,:], labels[0,0,:,:,:], (3,2,1))"
   ]
  },
  {
   "cell_type": "code",
   "execution_count": null,
   "metadata": {},
   "outputs": [],
   "source": [
    "\n",
    "# preds = preds.numpy()\n",
    "# labels = labels.numpy()\n",
    "\n",
    "# preds = np.squeeze(preds, 0)\n",
    "# labels = np.squeeze(labels, 0)\n",
    "\n",
    "# predmask = preds.astype(bool)\n",
    "# labelmask = labels.astype(bool)\n",
    "\n",
    "# preds[predmask] = 255\n",
    "# labels[labelmask] = 255\n",
    "\n",
    "# preds = np.pad(preds, ((0,2),(0,0),(0,0),(0,0)))\n",
    "# labels = np.pad(labels, ((2,0),(0,0),(0,0),(0,0)))\n",
    "\n",
    "# preds = np.moveaxis(preds, 0, 2)\n",
    "# labels = np.moveaxis(labels, 0, 2)\n",
    "\n",
    "# preds = preds.astype(np.uint8)\n",
    "# labels = labels.astype(np.uint8)\n",
    "\n",
    "# print(preds.shape)\n",
    "# print(labels.shape)\n",
    "\n",
    "# for i in range(14):\n",
    "#     plt.imshow(preds[:,:,:,i])\n",
    "#     plt.axis('off')\n",
    "#     plt.show()\n"
   ]
  },
  {
   "cell_type": "code",
   "execution_count": 76,
   "metadata": {},
   "outputs": [
    {
     "name": "stdout",
     "output_type": "stream",
     "text": [
      "(14, 240, 240, 3)\n"
     ]
    },
    {
     "data": {
      "application/vnd.jupyter.widget-view+json": {
       "model_id": "48266aa60b28440dbb9dedacb00300b5",
       "version_major": 2,
       "version_minor": 0
      },
      "text/plain": [
       "interactive(children=(IntSlider(value=6, description='layer', max=13), Output()), _dom_classes=('widget-intera…"
      ]
     },
     "metadata": {},
     "output_type": "display_data"
    },
    {
     "data": {
      "text/plain": [
       "<function __main__.explore_3d_image(layer)>"
      ]
     },
     "execution_count": 76,
     "metadata": {},
     "output_type": "execute_result"
    }
   ],
   "source": [
    "from ipywidgets import interact\n",
    "from PIL import ImageEnhance\n",
    "\n",
    "# overlap = labels + preds\n",
    "labels = add_mask_colour(labels, \"blue\")\n",
    "\n",
    "print(labels.shape)\n",
    "\n",
    "def explore_3d_image(layer):\n",
    "    \n",
    "    plt.figure(figsize=(5,5))\n",
    "    # plt.imshow(features[layer,:,:],cmap='gray')\n",
    "    plt.imshow(labels[layer,:,:,:])\n",
    "    plt.title('Explore Segmented MRI')\n",
    "    plt.axis('off')\n",
    "    return layer\n",
    "\n",
    "interact(explore_3d_image, layer=(0,labels.shape[0]-1))"
   ]
  },
  {
   "cell_type": "code",
   "execution_count": null,
   "metadata": {},
   "outputs": [],
   "source": []
  }
 ],
 "metadata": {
  "interpreter": {
   "hash": "7aa30a5429a76fc9327cf5c7d6cbac98b63911354387ecfa6ca386d1236b51ba"
  },
  "kernelspec": {
   "display_name": "Python 3",
   "language": "python",
   "name": "python3"
  },
  "language_info": {
   "codemirror_mode": {
    "name": "ipython",
    "version": 3
   },
   "file_extension": ".py",
   "mimetype": "text/x-python",
   "name": "python",
   "nbconvert_exporter": "python",
   "pygments_lexer": "ipython3",
   "version": "3.7.12"
  }
 },
 "nbformat": 4,
 "nbformat_minor": 2
}
