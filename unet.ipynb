{
 "cells": [
  {
   "cell_type": "code",
   "execution_count": 1,
   "metadata": {},
   "outputs": [],
   "source": [
    "import matplotlib.pyplot as plt\n",
    "import nibabel as nib\n",
    "import numpy as np\n",
    "import torch\n",
    "from torchsummary import summary\n",
    "from torch.utils.data import Dataset, DataLoader\n",
    "import h5py"
   ]
  },
  {
   "cell_type": "code",
   "execution_count": 3,
   "metadata": {},
   "outputs": [],
   "source": [
    "h5f = h5py.File('T2train.h5', 'w')\n",
    "for i in range(1,51):\n",
    "    X = nib.load(f'./dataset/T2/MRI{i}_T2.nii.gz')\n",
    "    X = X.get_fdata()\n",
    "    \n",
    "    while(X.shape[2] < 14):\n",
    "        X = np.pad(X,((0,0),(0,0),(0,1)))\n",
    "\n",
    "    X = np.transpose(X)\n",
    "    X = torch.unsqueeze(torch.from_numpy(X),0)\n",
    "\n",
    "    h5f.create_dataset(f'T2data_{i}', data=X)\n",
    "\n",
    "h5f.close()"
   ]
  },
  {
   "cell_type": "code",
   "execution_count": 4,
   "metadata": {},
   "outputs": [],
   "source": [
    "h5f = h5py.File('T2trainmask.h5', 'w')\n",
    "for i in range(1,51):\n",
    "    X = nib.load(f'./dataset/T2Masks/MRI{i}_T2mask.nii.gz')\n",
    "    X = X.get_fdata()\n",
    "    \n",
    "    while(X.shape[2] < 14):\n",
    "        X = np.pad(X,((0,0),(0,0),(0,1)))\n",
    "        \n",
    "    X = np.transpose(X)\n",
    "    X = torch.from_numpy(X)\n",
    "    X = torch.unsqueeze(X,0)\n",
    "    h5f.create_dataset(f'T2maskdata_{i}', data=X)\n",
    "\n",
    "h5f.close()"
   ]
  },
  {
   "cell_type": "code",
   "execution_count": 5,
   "metadata": {},
   "outputs": [],
   "source": [
    "h5f = h5py.File('T2test.h5', 'w')\n",
    "for i in range(1,51):\n",
    "    X = nib.load(f'./dataset/test/T2/MRI{i}_T2.nii.gz')\n",
    "    X = X.get_fdata()\n",
    "    \n",
    "    while(X.shape[2] < 14):\n",
    "        X = np.pad(X,((0,0),(0,0),(0,1)))\n",
    "\n",
    "    X = np.transpose(X)\n",
    "    X = torch.unsqueeze(torch.from_numpy(X),0)\n",
    "\n",
    "    h5f.create_dataset(f'T2data_{i}', data=X)\n",
    "\n",
    "h5f.close()"
   ]
  },
  {
   "cell_type": "code",
   "execution_count": 6,
   "metadata": {},
   "outputs": [],
   "source": [
    "h5f = h5py.File('T2testmask.h5', 'w')\n",
    "for i in range(1,51):\n",
    "    X = nib.load(f'./dataset/test/T2Masks/MRI{i}_T2mask.nii.gz')\n",
    "    X = X.get_fdata()\n",
    "    \n",
    "    while(X.shape[2] < 14):\n",
    "        X = np.pad(X,((0,0),(0,0),(0,1)))\n",
    "        \n",
    "    X = np.transpose(X)\n",
    "    X = torch.from_numpy(X)\n",
    "    X = torch.unsqueeze(X,0)\n",
    "    h5f.create_dataset(f'T2maskdata_{i}', data=X)\n",
    "\n",
    "h5f.close()"
   ]
  },
  {
   "cell_type": "code",
   "execution_count": null,
   "metadata": {},
   "outputs": [],
   "source": []
  }
 ],
 "metadata": {
  "interpreter": {
   "hash": "7aa30a5429a76fc9327cf5c7d6cbac98b63911354387ecfa6ca386d1236b51ba"
  },
  "kernelspec": {
   "display_name": "Python 3.7.12 64-bit ('rosetta': conda)",
   "language": "python",
   "name": "python3"
  },
  "language_info": {
   "codemirror_mode": {
    "name": "ipython",
    "version": 3
   },
   "file_extension": ".py",
   "mimetype": "text/x-python",
   "name": "python",
   "nbconvert_exporter": "python",
   "pygments_lexer": "ipython3",
   "version": "3.7.12"
  },
  "orig_nbformat": 4
 },
 "nbformat": 4,
 "nbformat_minor": 2
}
