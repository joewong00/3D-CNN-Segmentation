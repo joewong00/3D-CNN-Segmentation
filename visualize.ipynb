{
 "cells": [
  {
   "cell_type": "code",
   "execution_count": 1,
   "id": "cdc027d4",
   "metadata": {},
   "outputs": [],
   "source": [
    "import numpy as np\n",
    "import h5py\n",
    "import nibabel as nib\n",
    "import itk\n",
    "import itkwidgets\n",
    "from itkwidgets import view\n",
    "from ipywidgets import interact, interactive, IntSlider, ToggleButton\n",
    "import matplotlib.pyplot as plt\n",
    "import torch\n",
    "%matplotlib inline\n",
    "\n",
    "import seaborn as sns\n",
    "sns.set_style('darkgrid')"
   ]
  },
  {
   "cell_type": "markdown",
   "id": "e76f689e",
   "metadata": {},
   "source": [
    "## Explore image data"
   ]
  },
  {
   "cell_type": "code",
   "execution_count": 5,
   "id": "8e3b8c4a",
   "metadata": {},
   "outputs": [
    {
     "name": "stdout",
     "output_type": "stream",
     "text": [
      "Type of the image <class 'nibabel.nifti1.Nifti1Image'>\n"
     ]
    },
    {
     "data": {
      "text/plain": [
       "(240, 240, 13)"
      ]
     },
     "execution_count": 5,
     "metadata": {},
     "output_type": "execute_result"
    }
   ],
   "source": [
    "image_path = './dataset/train/T2/MRI1_T2.nii.gz'\n",
    "image_obj = nib.load(image_path)\n",
    "print(f'Type of the image {type(image_obj)}')\n",
    "\n",
    "# Extract data as numpy array\n",
    "image_data = image_obj.get_fdata()\n",
    "image_data.shape\n",
    "\n",
    "# h5f = h5py.File('./dataset/T2train.h5','r')\n",
    "# # X1 = torch.from_numpy(h5f['T2data_1'][:])\n",
    "# X1 = h5f['T2data_1'][:]\n",
    "# X1.shape\n",
    "# type(X1)"
   ]
  },
  {
   "cell_type": "code",
   "execution_count": null,
   "id": "cec7d39b",
   "metadata": {},
   "outputs": [],
   "source": [
    "# Get the image shape\n",
    "#height, width, depth = image_data.shape\n",
    "channel, depth, width, height = X1.shape\n",
    "print(f\"Image channel : {channel}\")\n",
    "print(f\"Image depth : {depth}\")\n",
    "print(f\"Image width : {width}\")\n",
    "print(f\"Image height : {height}\")"
   ]
  },
  {
   "cell_type": "code",
   "execution_count": null,
   "id": "8bff89bb",
   "metadata": {},
   "outputs": [],
   "source": [
    "# Visualize Single Image Data\n",
    "print(X1.shape)\n",
    "for i in range(depth):\n",
    "    plt.imshow(X1[0,i,:,:],cmap='gray')\n",
    "    plt.axis('off')\n",
    "    plt.show()"
   ]
  },
  {
   "cell_type": "code",
   "execution_count": null,
   "id": "f0126e08",
   "metadata": {},
   "outputs": [],
   "source": [
    "f, axarr = plt.subplots(7,2)\n",
    "axarr[0,0].imshow(X1[0,0,:,:],cmap='gray')\n",
    "axarr[0,1].imshow(X1[0,1,:,:],cmap='gray')\n",
    "axarr[1,0].imshow(X1[0,2,:,:],cmap='gray')\n",
    "axarr[1,1].imshow(X1[0,3,:,:],cmap='gray')\n",
    "axarr[2,0].imshow(X1[0,4,:,:],cmap='gray')\n",
    "axarr[2,1].imshow(X1[0,5,:,:],cmap='gray')\n",
    "axarr[3,0].imshow(X1[0,6,:,:],cmap='gray')\n",
    "axarr[3,1].imshow(X1[0,7,:,:],cmap='gray')\n",
    "axarr[4,0].imshow(X1[0,8,:,:],cmap='gray')\n",
    "axarr[4,1].imshow(X1[0,9,:,:],cmap='gray')\n",
    "axarr[5,0].imshow(X1[0,10,:,:],cmap='gray')\n",
    "axarr[5,1].imshow(X1[0,11,:,:],cmap='gray')\n",
    "axarr[6,0].imshow(X1[0,12,:,:],cmap='gray')\n",
    "axarr[6,1].imshow(X1[0,13,:,:],cmap='gray')\n"
   ]
  },
  {
   "cell_type": "code",
   "execution_count": null,
   "id": "0eab6e4e",
   "metadata": {},
   "outputs": [],
   "source": [
    "def explore_3d_image(layer):\n",
    "\n",
    "    plt.figure(figsize=(5,10))\n",
    "    plt.imshow(X1[0,layer,:,:],cmap='gray')\n",
    "    plt.title('Explore Layers of Kidney MRI')\n",
    "    plt.axis('off')\n",
    "    return layer\n",
    "\n",
    "interact(explore_3d_image, layer=(0,X1.shape[1]-1))"
   ]
  },
  {
   "cell_type": "markdown",
   "id": "f8d51a5d",
   "metadata": {},
   "source": [
    "## Explore data labels"
   ]
  },
  {
   "cell_type": "code",
   "execution_count": null,
   "id": "c6fa86d8",
   "metadata": {},
   "outputs": [],
   "source": [
    "\"\"\" label_path = './dataset/CKD_01/T2_mask.nii.gz'\n",
    "label_obj = nib.load(label_path)\n",
    "type(label_obj)\n",
    "# Label data as numpy array\n",
    "label_data = label_obj.get_fdata()\n",
    "type(label_data) \"\"\"\n",
    "\n",
    "h5f = h5py.File('./dataset/T2trainmask.h5','r')\n",
    "X1mask = torch.from_numpy(h5f['T2maskdata_1'][:])\n",
    "type(X1mask)"
   ]
  },
  {
   "cell_type": "code",
   "execution_count": null,
   "id": "7746aaf7",
   "metadata": {},
   "outputs": [],
   "source": [
    "# Get the image shape\n",
    "#height, width, depth = image_data.shape\n",
    "channel, depth, width, height = X1mask.shape\n",
    "print(f\"Image channel : {channel}\")\n",
    "print(f\"Image depth : {depth}\")\n",
    "print(f\"Image width : {width}\")\n",
    "print(f\"Image height : {height}\")\n"
   ]
  },
  {
   "cell_type": "code",
   "execution_count": null,
   "id": "8791c4c0",
   "metadata": {},
   "outputs": [],
   "source": [
    "# Visualize Single Image Data\n",
    "\n",
    "for i in range(depth):\n",
    "    plt.imshow(X1mask[0,i,:,:],cmap='gray')\n",
    "    plt.axis('off')\n",
    "    plt.show()"
   ]
  },
  {
   "cell_type": "markdown",
   "id": "961e1755",
   "metadata": {},
   "source": [
    "## Mask and Image"
   ]
  },
  {
   "cell_type": "code",
   "execution_count": null,
   "id": "bb6005a6",
   "metadata": {},
   "outputs": [],
   "source": [
    "def explore_3d_image(layer):\n",
    "    \n",
    "    plt.figure(figsize=(5,10))\n",
    "    plt.imshow(X1[0,layer,:,:],cmap='gray')\n",
    "    plt.imshow(X1mask[0,layer,:,:], alpha=0.3)\n",
    "    plt.title('Explore Segmented MRI')\n",
    "    plt.axis('off')\n",
    "    return layer\n",
    "\n",
    "interact(explore_3d_image, layer=(0,X1.shape[1]-1))"
   ]
  },
  {
   "cell_type": "code",
   "execution_count": null,
   "id": "dd2dc3d2",
   "metadata": {},
   "outputs": [],
   "source": [
    "# X1 = X1.numpy()\n",
    "# X1 = X1.squeeze()\n",
    "\n",
    "X1mask = X1mask.numpy()\n",
    "X1mask = X1mask.squeeze()"
   ]
  },
  {
   "cell_type": "code",
   "execution_count": null,
   "id": "46ebe2d1",
   "metadata": {},
   "outputs": [],
   "source": [
    "# ipv.figure()\n",
    "# ipv.volshow(X1)\n",
    "# ipv.show()\n",
    "view(X1)"
   ]
  },
  {
   "cell_type": "code",
   "execution_count": null,
   "id": "fc503571",
   "metadata": {},
   "outputs": [],
   "source": [
    "# X1mask = X1mask.numpy()\n",
    "\n",
    "# X1mask.shape\n",
    "# Yo = X1mask.astype(bool)\n",
    "# X1mask[Yo] = 255 \n",
    "\n",
    "# X1mask = np.pad(X1mask, ((0,2),(0,0),(0,0),(0,0)))\n",
    "\n",
    "# X1mask.shape\n",
    "# X1mask.shape\n",
    "\n",
    "# for i in range(14):\n",
    "#     plt.imshow(X1mask[:,:,:,i])\n",
    "#     plt.axis('off')\n",
    "#     plt.show()\n",
    "\n",
    "# X1mask = X1mask.astype(np.uint8)"
   ]
  },
  {
   "cell_type": "code",
   "execution_count": null,
   "id": "2d5878cf",
   "metadata": {},
   "outputs": [],
   "source": [
    "def explore_3d_image(layer):\n",
    "    \n",
    "    plt.figure(figsize=(5,10))\n",
    "    plt.imshow(X1[layer,:,:],cmap='gray')\n",
    "    plt.imshow(X1mask[:,:,:,layer], alpha=0.3)\n",
    "    plt.title('Explore Segmented MRI')\n",
    "    plt.axis('off')\n",
    "    return layer\n",
    "\n",
    "interact(explore_3d_image, layer=(0,X1mask.shape[3]-1))"
   ]
  },
  {
   "cell_type": "code",
   "execution_count": null,
   "id": "17831cb7",
   "metadata": {},
   "outputs": [],
   "source": []
  }
 ],
 "metadata": {
  "interpreter": {
   "hash": "7aa30a5429a76fc9327cf5c7d6cbac98b63911354387ecfa6ca386d1236b51ba"
  },
  "kernelspec": {
   "display_name": "Python 3 (ipykernel)",
   "language": "python",
   "name": "python3"
  },
  "language_info": {
   "codemirror_mode": {
    "name": "ipython",
    "version": 3
   },
   "file_extension": ".py",
   "mimetype": "text/x-python",
   "name": "python",
   "nbconvert_exporter": "python",
   "pygments_lexer": "ipython3",
   "version": "3.7.12"
  }
 },
 "nbformat": 4,
 "nbformat_minor": 5
}
