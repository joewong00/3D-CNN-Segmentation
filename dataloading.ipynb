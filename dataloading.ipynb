{
 "cells": [
  {
   "cell_type": "code",
   "execution_count": null,
   "metadata": {},
   "outputs": [],
   "source": [
    "import torch\n",
    "import torch.nn as nn\n",
    "from torch.utils.data import Dataset, DataLoader, random_split\n",
    "from dataloader import MRIDataset\n",
    "from residual3dunet.model import ResidualUNet3D\n",
    "import matplotlib.pyplot as plt\n",
    "from utils import get_loaders\n",
    "import torchvision.transforms.functional as F\n",
    "import torchvision.transforms as T\n",
    "import random\n",
    "import h5py\n",
    "import numpy as np\n",
    "from ipywidgets import interact\n",
    "from elastic_transform import RandomElastic\n",
    "import nibabel as nib\n",
    "#from residual3dunet.modelorig import ResidualUNet3D\n",
    "\n",
    "import matplotlib.pyplot as plt"
   ]
  },
  {
   "cell_type": "code",
   "execution_count": null,
   "metadata": {},
   "outputs": [],
   "source": [
    "dataset = MRIDataset(train=True)\n",
    "train, val = torch.utils.data.random_split(dataset, [40, 10])\n",
    "\n",
    "dataloader = DataLoader(dataset = train, batch_size= 1, shuffle= True, num_workers=2)"
   ]
  },
  {
   "cell_type": "code",
   "execution_count": null,
   "metadata": {},
   "outputs": [],
   "source": [
    "# dataset = MRIDataset(train=True, transform=True)\n",
    "\n",
    "train_kwargs = {'batch_size': 10}\n",
    "cuda_kwargs = {'num_workers': 1, 'pin_memory': True,'shuffle': True}\n",
    "train_kwargs.update(cuda_kwargs)\n",
    "\n",
    "#train, val = random_split(dataset, [40, 10])\n",
    "# dataloader = DataLoader(dataset = val, **train_kwargs)"
   ]
  },
  {
   "cell_type": "code",
   "execution_count": null,
   "metadata": {},
   "outputs": [],
   "source": [
    "dataloader, valloader = get_loaders(train=True, transform=True, **train_kwargs)"
   ]
  },
  {
   "cell_type": "code",
   "execution_count": null,
   "metadata": {},
   "outputs": [],
   "source": [
    "dataiter = iter(dataloader)\n",
    "data = dataiter.next()\n",
    "features, labels = data\n",
    "print(features.shape)\n",
    "print(labels.shape)"
   ]
  },
  {
   "cell_type": "code",
   "execution_count": null,
   "metadata": {},
   "outputs": [],
   "source": [
    "model = ResidualUNet3D(in_channels=1, out_channels=1)"
   ]
  },
  {
   "cell_type": "code",
   "execution_count": null,
   "metadata": {},
   "outputs": [],
   "source": [
    "features, labels = features.float().to('cpu'), labels.float().to('cpu')\n",
    "output = model(features)"
   ]
  },
  {
   "cell_type": "code",
   "execution_count": null,
   "metadata": {},
   "outputs": [],
   "source": [
    "dataset2 = MRIDataset(train=True, transform=T.Compose([\n",
    "    T.ToTensor(), \n",
    "    T.RandomHorizontalFlip(), \n",
    "    T.RandomCrop((240,240), padding=50, pad_if_needed=True),\n",
    "    ]), elastic=True)\n"
   ]
  },
  {
   "cell_type": "code",
   "execution_count": null,
   "metadata": {},
   "outputs": [],
   "source": [
    "\n",
    "test_loader = DataLoader(dataset = dataset2, batch_size=50, shuffle=False)\n",
    "\n",
    "# dataiter = iter(test_loader)\n",
    "\n",
    "# first = next(dataiter)\n",
    "# second = next(dataiter)\n",
    "\n",
    "# features1, labels1 = first\n",
    "# features2, labels2 = second\n",
    "\n",
    "for data, target in test_loader:\n",
    "    print(data.shape)\n",
    "    print(target.shape)\n",
    "\n"
   ]
  },
  {
   "cell_type": "code",
   "execution_count": 45,
   "metadata": {},
   "outputs": [
    {
     "name": "stdout",
     "output_type": "stream",
     "text": [
      "torch.Size([14, 240, 240])\n",
      "torch.Size([14, 240, 240])\n",
      "torch.Size([14, 240, 240])\n"
     ]
    }
   ],
   "source": [
    "# h5ftrain = h5py.File('dataset/T2train.h5','r')\n",
    "# h5ftrainmask = h5py.File('dataset/T2trainmask.h5','r')\n",
    "\n",
    "# data = h5ftrain[f'T2data_2'][:]\n",
    "# target = h5ftrainmask[f'T2maskdata_2'][:]\n",
    "\n",
    "# print(data.shape)\n",
    "# print(target.shape)\n",
    "\n",
    "# image_path = './dataset/train/T1/MRI2_T1.nii.gz'\n",
    "# image_obj = nib.load(image_path)\n",
    "# # print(f'Type of the image {type(image_obj)}')\n",
    "\n",
    "# # Extract data as numpy array\n",
    "# image_data = image_obj.get_fdata()\n",
    "# print(type(image_data))\n",
    "# print(image_data.shape)\n",
    "\n",
    "\n",
    "\n",
    "# image_data = np.pad(image_data, ((0,0),(0,0),(0,1)))\n",
    "# image_data = np.moveaxis(image_data, 2, 0)\n",
    "# image_data = np.moveaxis(image_data, 2, 1)\n",
    "# image_data = torch.from_numpy(image_data)\n",
    "# image_data = torch.unsqueeze(image_data, 0)\n",
    "# print(image_data.shape)\n",
    "\n",
    "# preprocess = RandomElastic(alpha=0, sigma=0.06)\n",
    "# data1, target1 = preprocess(data, target)\n",
    "\n",
    "# print(data1.shape)\n",
    "# print(target1.shape)\n"
   ]
  },
  {
   "cell_type": "code",
   "execution_count": 47,
   "metadata": {},
   "outputs": [
    {
     "data": {
      "application/vnd.jupyter.widget-view+json": {
       "model_id": "1b62f80d86e24ffd8ec381b781a99e9f",
       "version_major": 2,
       "version_minor": 0
      },
      "text/plain": [
       "interactive(children=(IntSlider(value=6, description='layer', max=13), Output()), _dom_classes=('widget-intera…"
      ]
     },
     "metadata": {},
     "output_type": "display_data"
    },
    {
     "data": {
      "text/plain": [
       "<function __main__.explore_3d_image(layer)>"
      ]
     },
     "execution_count": 47,
     "metadata": {},
     "output_type": "execute_result"
    }
   ],
   "source": [
    "# index = random.randint(0,49)\n",
    "def explore_3d_image(layer):\n",
    "\n",
    "    plt.figure(figsize=(5,10))\n",
    "    # plt.imshow(data[0,layer,:,:],cmap='gray')\n",
    "    \n",
    "    plt.imshow(t1data[layer,:,:],cmap='gray')\n",
    "    plt.imshow(t2mask[layer,:,:],cmap='gray', alpha=0.3)\n",
    "    plt.title('Explore Layers of Kidney MRI')\n",
    "    plt.axis('off')\n",
    "    return layer\n",
    "\n",
    "interact(explore_3d_image, layer=(0,13))"
   ]
  },
  {
   "cell_type": "code",
   "execution_count": null,
   "metadata": {},
   "outputs": [],
   "source": []
  }
 ],
 "metadata": {
  "interpreter": {
   "hash": "7aa30a5429a76fc9327cf5c7d6cbac98b63911354387ecfa6ca386d1236b51ba"
  },
  "kernelspec": {
   "display_name": "Python 3.7.12 64-bit ('rosetta': conda)",
   "language": "python",
   "name": "python3"
  },
  "language_info": {
   "codemirror_mode": {
    "name": "ipython",
    "version": 3
   },
   "file_extension": ".py",
   "mimetype": "text/x-python",
   "name": "python",
   "nbconvert_exporter": "python",
   "pygments_lexer": "ipython3",
   "version": "3.7.12"
  },
  "orig_nbformat": 4
 },
 "nbformat": 4,
 "nbformat_minor": 2
}
