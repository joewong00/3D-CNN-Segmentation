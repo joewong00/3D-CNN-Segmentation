{
 "cells": [
  {
   "cell_type": "code",
   "execution_count": 1,
   "metadata": {},
   "outputs": [],
   "source": [
    "import torch\n",
    "import torch.nn as nn\n",
    "from torch.utils.data import Dataset, DataLoader, random_split\n",
    "from dataloader import MRIDataset\n",
    "from residual3dunet.model import ResidualUNet3D\n",
    "import matplotlib.pyplot as plt\n",
    "from utils import get_loaders\n",
    "import torchvision.transforms.functional as F\n",
    "import torchvision.transforms as T\n",
    "import random\n",
    "import h5py\n",
    "import numpy as np\n",
    "from ipywidgets import interact\n",
    "# from elastic_transform import RandomElastic\n",
    "import nibabel as nib\n",
    "#from residual3dunet.modelorig import ResidualUNet3D\n",
    "\n",
    "import cv2\n",
    "from scipy.ndimage.interpolation import map_coordinates\n",
    "from scipy.ndimage.filters import gaussian_filter\n",
    "import matplotlib.pyplot as plt\n",
    "import numbers\n",
    "from PIL import Image"
   ]
  },
  {
   "cell_type": "code",
   "execution_count": null,
   "metadata": {},
   "outputs": [],
   "source": [
    "dataset = MRIDataset(train=True)\n",
    "train, val = torch.utils.data.random_split(dataset, [40, 10])\n",
    "\n",
    "dataloader = DataLoader(dataset = train, batch_size= 41, shuffle= True, num_workers=2)"
   ]
  },
  {
   "cell_type": "code",
   "execution_count": null,
   "metadata": {},
   "outputs": [],
   "source": [
    "# dataset = MRIDataset(train=True, transform=True)\n",
    "\n",
    "train_kwargs = {'batch_size': 10}\n",
    "cuda_kwargs = {'num_workers': 1, 'pin_memory': True,'shuffle': True}\n",
    "train_kwargs.update(cuda_kwargs)\n",
    "\n",
    "#train, val = random_split(dataset, [40, 10])\n",
    "# dataloader = DataLoader(dataset = val, **train_kwargs)"
   ]
  },
  {
   "cell_type": "code",
   "execution_count": null,
   "metadata": {},
   "outputs": [],
   "source": [
    "dataloader, valloader = get_loaders(train=True, transform=True, **train_kwargs)"
   ]
  },
  {
   "cell_type": "code",
   "execution_count": null,
   "metadata": {},
   "outputs": [],
   "source": [
    "dataiter = iter(dataloader)\n",
    "data = dataiter.next()\n",
    "features, labels = data\n",
    "print(features.shape)\n",
    "print(labels.shape)"
   ]
  },
  {
   "cell_type": "code",
   "execution_count": null,
   "metadata": {},
   "outputs": [],
   "source": [
    "model = ResidualUNet3D(in_channels=1, out_channels=1)"
   ]
  },
  {
   "cell_type": "code",
   "execution_count": null,
   "metadata": {},
   "outputs": [],
   "source": [
    "dataset2 = MRIDataset(train=True, transform=T.Compose([T.ToTensor(), T.RandomHorizontalFlip(), T.RandomCrop((240,240), padding=50, pad_if_needed=True)]))\n"
   ]
  },
  {
   "cell_type": "code",
   "execution_count": null,
   "metadata": {},
   "outputs": [],
   "source": [
    "\n",
    "test_loader = DataLoader(dataset = dataset2, batch_size=50, shuffle=False)\n",
    "\n",
    "# dataiter = iter(test_loader)\n",
    "\n",
    "# first = next(dataiter)\n",
    "# second = next(dataiter)\n",
    "\n",
    "# features1, labels1 = first\n",
    "# features2, labels2 = second\n",
    "\n",
    "for data, target in test_loader:\n",
    "    print(data.shape)\n",
    "    print(target.shape)\n",
    "\n"
   ]
  },
  {
   "cell_type": "code",
   "execution_count": 102,
   "metadata": {},
   "outputs": [],
   "source": [
    "class RandomElastic(object):\n",
    "    \"\"\"Random Elastic transformation by CV2 method on image by alpha, sigma parameter.\n",
    "        # you can refer to:  https://blog.csdn.net/qq_27261889/article/details/80720359\n",
    "        # https://blog.csdn.net/maliang_1993/article/details/82020596\n",
    "        # https://docs.scipy.org/doc/scipy/reference/generated/scipy.ndimage.map_coordinates.html#scipy.ndimage.map_coordinates\n",
    "    Args:\n",
    "        alpha (float): alpha value for Elastic transformation, factor\n",
    "        if alpha is 0, output is original whatever the sigma;\n",
    "        if alpha is 1, output only depends on sigma parameter;\n",
    "        if alpha < 1 or > 1, it zoom in or out the sigma's Relevant dx, dy.\n",
    "        sigma (float): sigma value for Elastic transformation, should be \\ in (0.05,0.1)\n",
    "\n",
    "        img (numpy array) 3D:(C * D * W * H) 2D:(C * W * H)\n",
    "        mask (numpy array) same size/shape as img, if not assign, set None.\n",
    "       \n",
    "    Output:\n",
    "        transformed img (numpy array) 3D:(C * D * W * H) 2D:(C * W * H)\n",
    "        transformed mask (numpy array) 3D: \n",
    "    \"\"\"\n",
    "    def __init__(self, alpha, sigma):\n",
    "        assert isinstance(alpha, numbers.Number) and isinstance(sigma, numbers.Number), \\\n",
    "            \"alpha and sigma should be a single number.\"\n",
    "        assert 0.05 <= sigma <= 0.1, \\\n",
    "            \"In pathological image, sigma should be in (0.05,0.1)\"\n",
    "        self.alpha = alpha\n",
    "        self.sigma = sigma\n",
    "\n",
    "    @staticmethod\n",
    "    def RandomElasticCV2(img, alpha, sigma, mask=None):\n",
    "        alpha = img.shape[1] * alpha\n",
    "        sigma = img.shape[1] * sigma\n",
    "        if mask is not None:\n",
    "            mask = np.array(mask).astype(np.uint8)\n",
    "            img = np.concatenate((img, mask), axis=3)\n",
    "\n",
    "        # W * H * D * C\n",
    "        shape = img.shape\n",
    "        depth = shape[2]\n",
    "\n",
    "        # W * H * C\n",
    "        shape = (shape[0], shape[1], shape[3])\n",
    "\n",
    "        transformed = []\n",
    "\n",
    "        dx = gaussian_filter((np.random.rand(*shape) * 2 - 1), sigma) * alpha\n",
    "        dy = gaussian_filter((np.random.rand(*shape) * 2 - 1), sigma) * alpha\n",
    "\n",
    "        x, y, z = np.meshgrid(np.arange(shape[1]), np.arange(shape[0]), np.arange(shape[2]))\n",
    "        indices = np.reshape(y + dy, (-1, 1)), np.reshape(x + dx, (-1, 1)), np.reshape(z, (-1, 1))\n",
    "\n",
    "        # Across the depth axis\n",
    "        for i in range(depth):\n",
    "            transformed_img = map_coordinates(img[:,:,i,:], indices, order=0, mode='reflect').reshape(shape)\n",
    "            transformed.append(transformed_img)\n",
    "\n",
    "        img = np.array(transformed)\n",
    "\n",
    "        # Move channel to dimension1\n",
    "        img = np.moveaxis(img,3,0)\n",
    "\n",
    "        if mask is not None:\n",
    "            return img[:1, ...], img[1:,...]\n",
    "        else:\n",
    "            return img\n",
    "\n",
    "    def __call__(self, img, mask=None):\n",
    "\n",
    "        # 4D input (C * D * W * H)\n",
    "        if len(img.shape) == 4:\n",
    "            img = np.moveaxis(img,1,3)\n",
    "            img = np.moveaxis(img,0,3)\n",
    "\n",
    "        if len(mask.shape) == 4:\n",
    "            mask = np.moveaxis(mask,1,3)\n",
    "            mask = np.moveaxis(mask,0,3)\n",
    "\n",
    "        return self.RandomElasticCV2(np.array(img), self.alpha, self.sigma, mask)\n",
    "\n",
    "    def __repr__(self):\n",
    "        format_string = self.__class__.__name__ + '(alpha value={0})'.format(self.alpha)\n",
    "        format_string += ', sigma={0}'.format(self.sigma)\n",
    "        format_string += ')'\n",
    "        return format_string\n"
   ]
  },
  {
   "cell_type": "code",
   "execution_count": 103,
   "metadata": {},
   "outputs": [
    {
     "name": "stdout",
     "output_type": "stream",
     "text": [
      "(1, 14, 240, 240)\n",
      "(1, 14, 240, 240)\n",
      "(2, 14, 240, 240)\n",
      "(1, 14, 240, 240)\n",
      "(1, 14, 240, 240)\n"
     ]
    }
   ],
   "source": [
    "h5ftrain = h5py.File('dataset/T2train.h5','r')\n",
    "h5ftrainmask = h5py.File('dataset/T2trainmask.h5','r')\n",
    "\n",
    "data = h5ftrain[f'T2data_1'][:]\n",
    "target = h5ftrainmask[f'T2maskdata_1'][:]\n",
    "\n",
    "print(data.shape)\n",
    "print(target.shape)\n",
    "\n",
    "preprocess = RandomElastic(alpha=2, sigma=0.06)\n",
    "data1, target1 = preprocess(data, target)\n",
    "\n",
    "print(data1.shape)\n",
    "print(target1.shape)\n"
   ]
  },
  {
   "cell_type": "code",
   "execution_count": 104,
   "metadata": {},
   "outputs": [
    {
     "data": {
      "text/plain": [
       "(-0.5, 239.5, 239.5, -0.5)"
      ]
     },
     "execution_count": 104,
     "metadata": {},
     "output_type": "execute_result"
    },
    {
     "data": {
      "image/png": "[encoded data removed]",
      "text/plain": [
       "<Figure size 432x288 with 2 Axes>"
      ]
     },
     "metadata": {
      "needs_background": "light"
     },
     "output_type": "display_data"
    }
   ],
   "source": [
    "f, axarr = plt.subplots(1,2)\n",
    "\n",
    "axarr[0].imshow(data[0,8,:,:],cmap='gray')\n",
    "axarr[0].imshow(target[0,8,:,:],cmap='gray',alpha=0.3)\n",
    "axarr[1].imshow(data1[0,8,:,:],cmap='gray')\n",
    "axarr[1].imshow(target1[0,8,:,:],cmap='gray',alpha=0.3)\n",
    "plt.axis('off')\n",
    "\n"
   ]
  },
  {
   "cell_type": "code",
   "execution_count": 105,
   "metadata": {},
   "outputs": [
    {
     "data": {
      "application/vnd.jupyter.widget-view+json": {
       "model_id": "0559b6711c454265a9d6f164f50b31a1",
       "version_major": 2,
       "version_minor": 0
      },
      "text/plain": [
       "interactive(children=(IntSlider(value=6, description='layer', max=13), Output()), _dom_classes=('widget-intera…"
      ]
     },
     "metadata": {},
     "output_type": "display_data"
    },
    {
     "data": {
      "text/plain": [
       "<function __main__.explore_3d_image(layer)>"
      ]
     },
     "execution_count": 105,
     "metadata": {},
     "output_type": "execute_result"
    }
   ],
   "source": [
    "# index = random.randint(0,49)\n",
    "def explore_3d_image(layer):\n",
    "\n",
    "    plt.figure(figsize=(5,10))\n",
    "    plt.imshow(data1[0,layer,:,:],cmap='gray')\n",
    "    plt.imshow(target1[0,layer,:,:],cmap='gray', alpha=0.3)\n",
    "    plt.title('Explore Layers of Kidney MRI')\n",
    "    plt.axis('off')\n",
    "    return layer\n",
    "\n",
    "interact(explore_3d_image, layer=(0,13))"
   ]
  },
  {
   "cell_type": "code",
   "execution_count": null,
   "metadata": {},
   "outputs": [],
   "source": []
  }
 ],
 "metadata": {
  "interpreter": {
   "hash": "7aa30a5429a76fc9327cf5c7d6cbac98b63911354387ecfa6ca386d1236b51ba"
  },
  "kernelspec": {
   "display_name": "Python 3.7.12 64-bit ('rosetta': conda)",
   "language": "python",
   "name": "python3"
  },
  "language_info": {
   "codemirror_mode": {
    "name": "ipython",
    "version": 3
   },
   "file_extension": ".py",
   "mimetype": "text/x-python",
   "name": "python",
   "nbconvert_exporter": "python",
   "pygments_lexer": "ipython3",
   "version": "3.7.12"
  },
  "orig_nbformat": 4
 },
 "nbformat": 4,
 "nbformat_minor": 2
}
