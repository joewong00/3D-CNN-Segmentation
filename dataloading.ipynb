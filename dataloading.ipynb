{
 "cells": [
  {
   "cell_type": "code",
   "execution_count": 1,
   "metadata": {},
   "outputs": [],
   "source": [
    "import torch\n",
    "import torch.nn as nn\n",
    "from torch.utils.data import Dataset, DataLoader\n",
    "from dataloader import MRIDataset\n",
    "from residual3dunet.model import ResidualUNet3D\n",
    "from torchsummary import summary\n",
    "#from residual3dunet.modelorig import ResidualUNet3D"
   ]
  },
  {
   "cell_type": "code",
   "execution_count": 2,
   "metadata": {},
   "outputs": [],
   "source": [
    "dataset = MRIDataset(train=True)\n",
    "dataloader = DataLoader(dataset = dataset, batch_size= 10, shuffle= True, num_workers=2)"
   ]
  },
  {
   "cell_type": "code",
   "execution_count": 3,
   "metadata": {},
   "outputs": [
    {
     "name": "stdout",
     "output_type": "stream",
     "text": [
      "torch.Size([10, 1, 14, 240, 240])\n"
     ]
    }
   ],
   "source": [
    "dataiter = iter(dataloader)\n",
    "data = dataiter.next()\n",
    "features, labels = data\n",
    "print(features.shape)"
   ]
  },
  {
   "cell_type": "code",
   "execution_count": 2,
   "metadata": {},
   "outputs": [],
   "source": [
    "model = ResidualUNet3D(in_channels=1, out_channels=1)"
   ]
  },
  {
   "cell_type": "code",
   "execution_count": 3,
   "metadata": {},
   "outputs": [],
   "source": [
    "x = torch.randn(size=(1, 1, 14, 240, 240), dtype=torch.float32)"
   ]
  },
  {
   "cell_type": "code",
   "execution_count": 4,
   "metadata": {},
   "outputs": [
    {
     "name": "stdout",
     "output_type": "stream",
     "text": [
      "torch.Size([1, 1, 14, 240, 240])\n",
      "torch.Size([1, 64, 14, 240, 240])\n",
      "torch.Size([1, 128, 14, 120, 120])\n",
      "torch.Size([1, 256, 14, 60, 60])\n",
      "torch.Size([1, 512, 14, 30, 30])\n",
      "torch.Size([1, 1024, 14, 15, 15])\n",
      "torch.Size([1, 512, 14, 30, 30])\n",
      "torch.Size([1, 256, 14, 60, 60])\n",
      "torch.Size([1, 128, 14, 120, 120])\n",
      "torch.Size([1, 64, 14, 240, 240])\n",
      "torch.Size([1, 1, 14, 240, 240])\n"
     ]
    }
   ],
   "source": [
    "out = model(x)"
   ]
  }
 ],
 "metadata": {
  "interpreter": {
   "hash": "7aa30a5429a76fc9327cf5c7d6cbac98b63911354387ecfa6ca386d1236b51ba"
  },
  "kernelspec": {
   "display_name": "Python 3.7.12 64-bit ('rosetta': conda)",
   "language": "python",
   "name": "python3"
  },
  "language_info": {
   "codemirror_mode": {
    "name": "ipython",
    "version": 3
   },
   "file_extension": ".py",
   "mimetype": "text/x-python",
   "name": "python",
   "nbconvert_exporter": "python",
   "pygments_lexer": "ipython3",
   "version": "3.7.12"
  },
  "orig_nbformat": 4
 },
 "nbformat": 4,
 "nbformat_minor": 2
}
